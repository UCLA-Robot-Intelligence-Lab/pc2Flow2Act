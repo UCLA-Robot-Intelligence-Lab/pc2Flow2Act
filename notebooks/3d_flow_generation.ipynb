{
 "cells": [
  {
   "cell_type": "code",
   "execution_count": 1,
   "id": "9a6c3adc-37be-48e8-86c2-f24feeb10df4",
   "metadata": {},
   "outputs": [],
   "source": [
    "import random\n",
    "\n",
    "import hydra\n",
    "import numpy as np\n",
    "import torch\n",
    "import torch.nn.functional as F\n",
    "from diffusers import AutoencoderKL, DDIMScheduler\n",
    "from diffusers.optimization import get_scheduler\n",
    "from einops import rearrange\n",
    "from im2flow2act.flow_generation.AnimateFlow3D import AnimateFlow3D\n",
    "from im2flow2act.flow_generation.AnimateFlow3DPipeline import AnimationFlow3DPipeline"
   ]
  },
  {
   "cell_type": "code",
   "execution_count": 2,
   "id": "3188d7df",
   "metadata": {},
   "outputs": [],
   "source": [
    "%load_ext autoreload\n",
    "%autoreload 2"
   ]
  },
  {
   "cell_type": "code",
   "execution_count": 3,
   "id": "87a4026a",
   "metadata": {},
   "outputs": [
    {
     "name": "stdout",
     "output_type": "stream",
     "text": [
      "/home/yuanhong/Documents/im2Flow2Act\n",
      "8\n"
     ]
    }
   ],
   "source": [
    "device = \"cuda:0\"\n",
    "import os\n",
    "dev_dir = os.environ['DEV_PATH']\n",
    "print(dev_dir)\n",
    "print(torch.cuda.device_count())"
   ]
  },
  {
   "cell_type": "code",
   "execution_count": 4,
   "id": "4b437142",
   "metadata": {},
   "outputs": [
    {
     "name": "stdout",
     "output_type": "stream",
     "text": [
      "Data loaded from /data/yuanhong/mimicgen_data/core_datasets/coffee/demo_src_coffee_task_D1/demo_3d.hdf5\n",
      "torch.Size([3, 50, 30])\n"
     ]
    }
   ],
   "source": [
    "from im2flow2act.flow_generation.dataloader.animateflow_mimicgen_3d_dataset import AnimateFlowMimicgen3DDataset\n",
    "\n",
    "data_path = \"/data/yuanhong/mimicgen_data/core_datasets/coffee/demo_src_coffee_task_D1/demo_3d.hdf5\"\n",
    "dataset = AnimateFlowMimicgen3DDataset(data_path=data_path)\n",
    "print(dataset[0][\"point_tracking_sequence\"].shape) # (T, num_points, 3)"
   ]
  },
  {
   "cell_type": "code",
   "execution_count": 9,
   "id": "058cfc99",
   "metadata": {},
   "outputs": [
    {
     "data": {
      "text/plain": [
       "dict_keys(['global_obs', 'point_tracking_sequence', 'first_frame_object_points'])"
      ]
     },
     "execution_count": 9,
     "metadata": {},
     "output_type": "execute_result"
    }
   ],
   "source": [
    "dataset[0].keys()"
   ]
  },
  {
   "cell_type": "code",
   "execution_count": 5,
   "id": "210a057f",
   "metadata": {},
   "outputs": [
    {
     "data": {
      "image/png": "[encoded data removed]",
      "text/plain": [
       "<Figure size 640x480 with 1 Axes>"
      ]
     },
     "metadata": {},
     "output_type": "display_data"
    }
   ],
   "source": [
    "from matplotlib import pyplot as plt\n",
    "\n",
    "arr = dataset[0][\"point_tracking_sequence\"].permute(1,2,0).numpy()\n",
    "\n",
    "# Visualize with imshow\n",
    "plt.imshow((arr - arr.min()) / (arr.max() - arr.min()), cmap='viridis')\n",
    "plt.show()"
   ]
  },
  {
   "cell_type": "code",
   "execution_count": 6,
   "id": "3707e7b0-0411-465b-9ffc-572a77a8ed05",
   "metadata": {},
   "outputs": [
    {
     "data": {
      "text/plain": [
       "array([0.42262768, 0.16787781, 0.18832203])"
      ]
     },
     "execution_count": 6,
     "metadata": {},
     "output_type": "execute_result"
    }
   ],
   "source": [
    "dataset.init_pos_std"
   ]
  },
  {
   "cell_type": "code",
   "execution_count": 7,
   "id": "c0d5bd8f",
   "metadata": {},
   "outputs": [],
   "source": [
    "from diffusers import UNet2DConditionModel\n",
    "\n",
    "noise_scheduler_config = {\n",
    "    'num_train_timesteps': 1000, \n",
    "    'beta_start': 0.00085, \n",
    "    'beta_end': 0.012, \n",
    "    'beta_schedule': 'linear', \n",
    "    'steps_offset': 1, \n",
    "    'clip_sample': False\n",
    "}\n",
    "\n",
    "scheduler = DDIMScheduler(**noise_scheduler_config)\n",
    "\n",
    "unet = UNet2DConditionModel(in_channels=3, out_channels=3)\n",
    "model = AnimateFlow3D(unet=unet)\n",
    "\n",
    "model.to(device)\n",
    "pipeline = AnimationFlow3DPipeline(model, device, scheduler)"
   ]
  },
  {
   "cell_type": "code",
   "execution_count": 8,
   "id": "600e85b2",
   "metadata": {},
   "outputs": [
    {
     "data": {
      "text/plain": [
       "torch.Size([30, 6])"
      ]
     },
     "execution_count": 8,
     "metadata": {},
     "output_type": "execute_result"
    }
   ],
   "source": [
    "dataset[50][\"first_frame_object_points\"].shape"
   ]
  },
  {
   "cell_type": "code",
   "execution_count": 9,
   "id": "41e01427",
   "metadata": {},
   "outputs": [],
   "source": [
    "train_dataloader = torch.utils.data.DataLoader(dataset, batch_size=3)\n",
    "batch = next(iter(train_dataloader))\n",
    "\n",
    "global_obs = batch[\"global_obs\"].to(\n",
    "    dtype=torch.float32\n",
    ")\n",
    "first_frame_object_points = batch[\"first_frame_object_points\"].to(\n",
    "    dtype=torch.float32\n",
    ")\n",
    "# Convert flows to latent space\n",
    "point_tracking_sequence = batch[\"point_tracking_sequence\"].to(\n",
    "    dtype=torch.float32\n",
    ")\n"
   ]
  },
  {
   "cell_type": "code",
   "execution_count": 10,
   "id": "beac9e1f",
   "metadata": {},
   "outputs": [],
   "source": [
    "# global_obs, first_frame_object_points = dataset[0:2][\"global_obs\"].to(torch.float32), dataset[0:2][\"first_frame_object_points\"].to(torch.float32)\n",
    "flow = pipeline(global_obs, first_frame_object_points, (50, 30))"
   ]
  },
  {
   "cell_type": "code",
   "execution_count": 32,
   "id": "2c56b038-3240-422e-9319-84c9b6549d68",
   "metadata": {},
   "outputs": [
    {
     "data": {
      "text/plain": [
       "torch.Size([50, 30, 3])"
      ]
     },
     "execution_count": 32,
     "metadata": {},
     "output_type": "execute_result"
    }
   ],
   "source": [
    "dataset.dataset[\"point_tracking_sequence\"][0].shape"
   ]
  },
  {
   "cell_type": "code",
   "execution_count": 41,
   "id": "54c39e78-565c-48ec-b14a-94fe4d812205",
   "metadata": {},
   "outputs": [
    {
     "data": {
      "text/plain": [
       "True"
      ]
     },
     "execution_count": 41,
     "metadata": {},
     "output_type": "execute_result"
    }
   ],
   "source": [
    "x = (dataset[0][\"point_tracking_sequence\"] * dataset.delta_std.reshape((3,1,1)) + dataset.delta_mean.reshape((3,1,1))).permute(1,2,0)[1:]\n",
    "\n",
    "np.allclose(x, dataset.dataset[\"point_tracking_sequence\"][0,1:])"
   ]
  }
 ],
 "metadata": {
  "kernelspec": {
   "display_name": "Python 3 (ipykernel)",
   "language": "python",
   "name": "python3"
  },
  "language_info": {
   "codemirror_mode": {
    "name": "ipython",
    "version": 3
   },
   "file_extension": ".py",
   "mimetype": "text/x-python",
   "name": "python",
   "nbconvert_exporter": "python",
   "pygments_lexer": "ipython3",
   "version": "3.10.12"
  }
 },
 "nbformat": 4,
 "nbformat_minor": 5
}
